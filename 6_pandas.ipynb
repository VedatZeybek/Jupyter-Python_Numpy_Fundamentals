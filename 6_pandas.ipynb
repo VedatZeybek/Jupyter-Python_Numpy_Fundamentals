{
 "cells": [
  {
   "cell_type": "markdown",
   "id": "4d1733fb",
   "metadata": {},
   "source": [
    "# Pandas"
   ]
  },
  {
   "cell_type": "code",
   "execution_count": 2,
   "id": "a0c73144",
   "metadata": {
    "vscode": {
     "languageId": "plaintext"
    }
   },
   "outputs": [],
   "source": [
    "import pandas as pd"
   ]
  },
  {
   "cell_type": "code",
   "execution_count": 3,
   "id": "dfc47daa-214d-46b2-8bb1-99ac1978078e",
   "metadata": {},
   "outputs": [],
   "source": [
    "#pd.read_excel('Your excel file')\n",
    "#pd.read_csv('Your csv file')"
   ]
  },
  {
   "cell_type": "code",
   "execution_count": 4,
   "id": "adf4896d-ba3a-4721-a707-f208fb9b91fb",
   "metadata": {},
   "outputs": [
    {
     "data": {
      "text/html": [
       "<div>\n",
       "<style scoped>\n",
       "    .dataframe tbody tr th:only-of-type {\n",
       "        vertical-align: middle;\n",
       "    }\n",
       "\n",
       "    .dataframe tbody tr th {\n",
       "        vertical-align: top;\n",
       "    }\n",
       "\n",
       "    .dataframe thead th {\n",
       "        text-align: right;\n",
       "    }\n",
       "</style>\n",
       "<table border=\"1\" class=\"dataframe\">\n",
       "  <thead>\n",
       "    <tr style=\"text-align: right;\">\n",
       "      <th></th>\n",
       "      <th>number_courses</th>\n",
       "      <th>time_study</th>\n",
       "      <th>Marks</th>\n",
       "    </tr>\n",
       "  </thead>\n",
       "  <tbody>\n",
       "    <tr>\n",
       "      <th>0</th>\n",
       "      <td>3</td>\n",
       "      <td>4.508</td>\n",
       "      <td>19.202</td>\n",
       "    </tr>\n",
       "    <tr>\n",
       "      <th>1</th>\n",
       "      <td>4</td>\n",
       "      <td>0.096</td>\n",
       "      <td>7.734</td>\n",
       "    </tr>\n",
       "    <tr>\n",
       "      <th>2</th>\n",
       "      <td>4</td>\n",
       "      <td>3.133</td>\n",
       "      <td>13.811</td>\n",
       "    </tr>\n",
       "    <tr>\n",
       "      <th>3</th>\n",
       "      <td>6</td>\n",
       "      <td>7.909</td>\n",
       "      <td>53.018</td>\n",
       "    </tr>\n",
       "    <tr>\n",
       "      <th>4</th>\n",
       "      <td>8</td>\n",
       "      <td>7.811</td>\n",
       "      <td>55.299</td>\n",
       "    </tr>\n",
       "  </tbody>\n",
       "</table>\n",
       "</div>"
      ],
      "text/plain": [
       "   number_courses  time_study   Marks\n",
       "0               3       4.508  19.202\n",
       "1               4       0.096   7.734\n",
       "2               4       3.133  13.811\n",
       "3               6       7.909  53.018\n",
       "4               8       7.811  55.299"
      ]
     },
     "execution_count": 4,
     "metadata": {},
     "output_type": "execute_result"
    }
   ],
   "source": [
    "pd.read_csv('student.csv').head()"
   ]
  },
  {
   "cell_type": "code",
   "execution_count": 5,
   "id": "7985ba8f-f649-4421-98cd-d09170c759f0",
   "metadata": {},
   "outputs": [
    {
     "data": {
      "text/html": [
       "<div>\n",
       "<style scoped>\n",
       "    .dataframe tbody tr th:only-of-type {\n",
       "        vertical-align: middle;\n",
       "    }\n",
       "\n",
       "    .dataframe tbody tr th {\n",
       "        vertical-align: top;\n",
       "    }\n",
       "\n",
       "    .dataframe thead th {\n",
       "        text-align: right;\n",
       "    }\n",
       "</style>\n",
       "<table border=\"1\" class=\"dataframe\">\n",
       "  <thead>\n",
       "    <tr style=\"text-align: right;\">\n",
       "      <th></th>\n",
       "      <th>Sr. No.</th>\n",
       "      <th>Rank</th>\n",
       "      <th>Class</th>\n",
       "      <th>Name</th>\n",
       "      <th>Gender</th>\n",
       "      <th>Abilities</th>\n",
       "    </tr>\n",
       "  </thead>\n",
       "  <tbody>\n",
       "    <tr>\n",
       "      <th>0</th>\n",
       "      <td>1</td>\n",
       "      <td>S-1</td>\n",
       "      <td>S-Class</td>\n",
       "      <td>Blast</td>\n",
       "      <td>Male</td>\n",
       "      <td>['Superhuman Physical Prowess', 'Portal Creati...</td>\n",
       "    </tr>\n",
       "    <tr>\n",
       "      <th>1</th>\n",
       "      <td>2</td>\n",
       "      <td>S-2</td>\n",
       "      <td>S-Class</td>\n",
       "      <td>Tatsumaki</td>\n",
       "      <td>Female</td>\n",
       "      <td>['Psychokinesis']</td>\n",
       "    </tr>\n",
       "    <tr>\n",
       "      <th>2</th>\n",
       "      <td>3</td>\n",
       "      <td>S-3</td>\n",
       "      <td>S-Class</td>\n",
       "      <td>Silver Fang</td>\n",
       "      <td>Male</td>\n",
       "      <td>['Superhuman Physical Prowess', 'Master Martia...</td>\n",
       "    </tr>\n",
       "  </tbody>\n",
       "</table>\n",
       "</div>"
      ],
      "text/plain": [
       "   Sr. No. Rank    Class         Name  Gender  \\\n",
       "0        1  S-1  S-Class       Blast     Male   \n",
       "1        2  S-2  S-Class   Tatsumaki   Female   \n",
       "2        3  S-3  S-Class  Silver Fang    Male   \n",
       "\n",
       "                                           Abilities  \n",
       "0  ['Superhuman Physical Prowess', 'Portal Creati...  \n",
       "1                                  ['Psychokinesis']  \n",
       "2  ['Superhuman Physical Prowess', 'Master Martia...  "
      ]
     },
     "execution_count": 5,
     "metadata": {},
     "output_type": "execute_result"
    }
   ],
   "source": [
    "heroes = pd.read_csv('heroes.csv')\n",
    "heroes.head(3)"
   ]
  },
  {
   "cell_type": "code",
   "execution_count": 24,
   "id": "c1a3942c-51d8-47da-91cf-5b85ef7f2524",
   "metadata": {},
   "outputs": [
    {
     "data": {
      "text/plain": [
       "Series([], Name: Name, dtype: object)"
      ]
     },
     "execution_count": 24,
     "metadata": {},
     "output_type": "execute_result"
    }
   ],
   "source": [
    "heroes.loc[heroes['Rank'] == 'S', 'Name']"
   ]
  },
  {
   "cell_type": "code",
   "execution_count": 36,
   "id": "e072c3dc-fe90-47c3-980f-3c91d87f57ae",
   "metadata": {},
   "outputs": [],
   "source": [
    "heroes = pd.read_csv('heroes.csv')\n",
    "s1 = heroes['Rank'].str.startswith(('S'))"
   ]
  },
  {
   "cell_type": "code",
   "execution_count": 37,
   "id": "3dcfb8f4-681d-4a98-a0b2-3925709341bb",
   "metadata": {},
   "outputs": [
    {
     "data": {
      "text/html": [
       "<div>\n",
       "<style scoped>\n",
       "    .dataframe tbody tr th:only-of-type {\n",
       "        vertical-align: middle;\n",
       "    }\n",
       "\n",
       "    .dataframe tbody tr th {\n",
       "        vertical-align: top;\n",
       "    }\n",
       "\n",
       "    .dataframe thead th {\n",
       "        text-align: right;\n",
       "    }\n",
       "</style>\n",
       "<table border=\"1\" class=\"dataframe\">\n",
       "  <thead>\n",
       "    <tr style=\"text-align: right;\">\n",
       "      <th></th>\n",
       "      <th>Sr. No.</th>\n",
       "      <th>Rank</th>\n",
       "      <th>Class</th>\n",
       "      <th>Name</th>\n",
       "      <th>Gender</th>\n",
       "      <th>Abilities</th>\n",
       "    </tr>\n",
       "  </thead>\n",
       "  <tbody>\n",
       "    <tr>\n",
       "      <th>0</th>\n",
       "      <td>1</td>\n",
       "      <td>S-1</td>\n",
       "      <td>S-Class</td>\n",
       "      <td>Blast</td>\n",
       "      <td>Male</td>\n",
       "      <td>['Superhuman Physical Prowess', 'Portal Creati...</td>\n",
       "    </tr>\n",
       "    <tr>\n",
       "      <th>1</th>\n",
       "      <td>2</td>\n",
       "      <td>S-2</td>\n",
       "      <td>S-Class</td>\n",
       "      <td>Tatsumaki</td>\n",
       "      <td>Female</td>\n",
       "      <td>['Psychokinesis']</td>\n",
       "    </tr>\n",
       "    <tr>\n",
       "      <th>2</th>\n",
       "      <td>3</td>\n",
       "      <td>S-3</td>\n",
       "      <td>S-Class</td>\n",
       "      <td>Silver Fang</td>\n",
       "      <td>Male</td>\n",
       "      <td>['Superhuman Physical Prowess', 'Master Martia...</td>\n",
       "    </tr>\n",
       "    <tr>\n",
       "      <th>3</th>\n",
       "      <td>4</td>\n",
       "      <td>S-4</td>\n",
       "      <td>S-Class</td>\n",
       "      <td>Atomic Samurai</td>\n",
       "      <td>Male</td>\n",
       "      <td>['Superhuman Physical Prowess', 'Master Swords...</td>\n",
       "    </tr>\n",
       "    <tr>\n",
       "      <th>4</th>\n",
       "      <td>5</td>\n",
       "      <td>S-5</td>\n",
       "      <td>S-Class</td>\n",
       "      <td>Child Emperor</td>\n",
       "      <td>Male</td>\n",
       "      <td>['Genius Intellect']</td>\n",
       "    </tr>\n",
       "  </tbody>\n",
       "</table>\n",
       "</div>"
      ],
      "text/plain": [
       "   Sr. No. Rank    Class            Name  Gender  \\\n",
       "0        1  S-1  S-Class          Blast     Male   \n",
       "1        2  S-2  S-Class      Tatsumaki   Female   \n",
       "2        3  S-3  S-Class     Silver Fang    Male   \n",
       "3        4  S-4  S-Class  Atomic Samurai    Male   \n",
       "4        5  S-5  S-Class   Child Emperor    Male   \n",
       "\n",
       "                                           Abilities  \n",
       "0  ['Superhuman Physical Prowess', 'Portal Creati...  \n",
       "1                                  ['Psychokinesis']  \n",
       "2  ['Superhuman Physical Prowess', 'Master Martia...  \n",
       "3  ['Superhuman Physical Prowess', 'Master Swords...  \n",
       "4                               ['Genius Intellect']  "
      ]
     },
     "execution_count": 37,
     "metadata": {},
     "output_type": "execute_result"
    }
   ],
   "source": [
    "heroes[s1].head(5)"
   ]
  },
  {
   "cell_type": "code",
   "execution_count": 38,
   "id": "f3f562f2-5d4c-4ccc-99d1-f22a9b9b5587",
   "metadata": {},
   "outputs": [],
   "source": [
    "a = heroes['Rank'].str.startswith(('A'))"
   ]
  },
  {
   "cell_type": "code",
   "execution_count": 39,
   "id": "eb35e875-3fb7-4e42-acce-c9ed6d793bfa",
   "metadata": {},
   "outputs": [
    {
     "data": {
      "text/html": [
       "<div>\n",
       "<style scoped>\n",
       "    .dataframe tbody tr th:only-of-type {\n",
       "        vertical-align: middle;\n",
       "    }\n",
       "\n",
       "    .dataframe tbody tr th {\n",
       "        vertical-align: top;\n",
       "    }\n",
       "\n",
       "    .dataframe thead th {\n",
       "        text-align: right;\n",
       "    }\n",
       "</style>\n",
       "<table border=\"1\" class=\"dataframe\">\n",
       "  <thead>\n",
       "    <tr style=\"text-align: right;\">\n",
       "      <th></th>\n",
       "      <th>Sr. No.</th>\n",
       "      <th>Rank</th>\n",
       "      <th>Class</th>\n",
       "      <th>Name</th>\n",
       "      <th>Gender</th>\n",
       "      <th>Abilities</th>\n",
       "    </tr>\n",
       "  </thead>\n",
       "  <tbody>\n",
       "    <tr>\n",
       "      <th>17</th>\n",
       "      <td>18</td>\n",
       "      <td>A-1</td>\n",
       "      <td>A-Class</td>\n",
       "      <td>Amai Mask</td>\n",
       "      <td>Male</td>\n",
       "      <td>['Superhuman Physical Prowess', 'Regeneration'...</td>\n",
       "    </tr>\n",
       "    <tr>\n",
       "      <th>18</th>\n",
       "      <td>19</td>\n",
       "      <td>A-2</td>\n",
       "      <td>A-Class</td>\n",
       "      <td>Iaian</td>\n",
       "      <td>Male</td>\n",
       "      <td>['Superhuman Speed', 'Superhuman Strength', 'E...</td>\n",
       "    </tr>\n",
       "    <tr>\n",
       "      <th>19</th>\n",
       "      <td>20</td>\n",
       "      <td>A-3</td>\n",
       "      <td>A-Class</td>\n",
       "      <td>Okamaitachi</td>\n",
       "      <td>Female</td>\n",
       "      <td>['Expert Swordsman']</td>\n",
       "    </tr>\n",
       "    <tr>\n",
       "      <th>20</th>\n",
       "      <td>21</td>\n",
       "      <td>A-4</td>\n",
       "      <td>A-Class</td>\n",
       "      <td>Bushidrill</td>\n",
       "      <td>Male</td>\n",
       "      <td>['Superhuman Strength', 'Superhuman Speed', 'S...</td>\n",
       "    </tr>\n",
       "    <tr>\n",
       "      <th>21</th>\n",
       "      <td>22</td>\n",
       "      <td>A-5</td>\n",
       "      <td>A-Class</td>\n",
       "      <td>Heavy Tank Loincloth</td>\n",
       "      <td>Male</td>\n",
       "      <td>['Enhanced Strength', 'Enhanced Speed']</td>\n",
       "    </tr>\n",
       "  </tbody>\n",
       "</table>\n",
       "</div>"
      ],
      "text/plain": [
       "    Sr. No. Rank    Class                  Name  Gender  \\\n",
       "17       18  A-1  A-Class             Amai Mask    Male   \n",
       "18       19  A-2  A-Class                 Iaian    Male   \n",
       "19       20  A-3  A-Class           Okamaitachi  Female   \n",
       "20       21  A-4  A-Class            Bushidrill    Male   \n",
       "21       22  A-5  A-Class  Heavy Tank Loincloth    Male   \n",
       "\n",
       "                                            Abilities  \n",
       "17  ['Superhuman Physical Prowess', 'Regeneration'...  \n",
       "18  ['Superhuman Speed', 'Superhuman Strength', 'E...  \n",
       "19                               ['Expert Swordsman']  \n",
       "20  ['Superhuman Strength', 'Superhuman Speed', 'S...  \n",
       "21            ['Enhanced Strength', 'Enhanced Speed']  "
      ]
     },
     "execution_count": 39,
     "metadata": {},
     "output_type": "execute_result"
    }
   ],
   "source": [
    "heroes[a].head(5)"
   ]
  },
  {
   "cell_type": "code",
   "execution_count": 42,
   "id": "af91048b-2d81-4876-a303-48ddea1f5428",
   "metadata": {},
   "outputs": [
    {
     "data": {
      "text/html": [
       "<div>\n",
       "<style scoped>\n",
       "    .dataframe tbody tr th:only-of-type {\n",
       "        vertical-align: middle;\n",
       "    }\n",
       "\n",
       "    .dataframe tbody tr th {\n",
       "        vertical-align: top;\n",
       "    }\n",
       "\n",
       "    .dataframe thead th {\n",
       "        text-align: right;\n",
       "    }\n",
       "</style>\n",
       "<table border=\"1\" class=\"dataframe\">\n",
       "  <thead>\n",
       "    <tr style=\"text-align: right;\">\n",
       "      <th></th>\n",
       "      <th>Sr. No.</th>\n",
       "      <th>Rank</th>\n",
       "      <th>Class</th>\n",
       "      <th>Name</th>\n",
       "      <th>Gender</th>\n",
       "      <th>Abilities</th>\n",
       "    </tr>\n",
       "  </thead>\n",
       "  <tbody>\n",
       "    <tr>\n",
       "      <th>15</th>\n",
       "      <td>16</td>\n",
       "      <td>S-16</td>\n",
       "      <td>S-Class</td>\n",
       "      <td>Tanktop Master</td>\n",
       "      <td>Male</td>\n",
       "      <td>['Superhuman Physical Prowess', 'Expert Marksm...</td>\n",
       "    </tr>\n",
       "    <tr>\n",
       "      <th>16</th>\n",
       "      <td>17</td>\n",
       "      <td>S-17</td>\n",
       "      <td>S-Class</td>\n",
       "      <td>Puri-Puri Prisoner</td>\n",
       "      <td>Male</td>\n",
       "      <td>['Superhuman Physical Prowess', 'Healing Factor']</td>\n",
       "    </tr>\n",
       "    <tr>\n",
       "      <th>17</th>\n",
       "      <td>18</td>\n",
       "      <td>A-1</td>\n",
       "      <td>A-Class</td>\n",
       "      <td>Amai Mask</td>\n",
       "      <td>Male</td>\n",
       "      <td>['Superhuman Physical Prowess', 'Regeneration'...</td>\n",
       "    </tr>\n",
       "    <tr>\n",
       "      <th>18</th>\n",
       "      <td>19</td>\n",
       "      <td>A-2</td>\n",
       "      <td>A-Class</td>\n",
       "      <td>Iaian</td>\n",
       "      <td>Male</td>\n",
       "      <td>['Superhuman Speed', 'Superhuman Strength', 'E...</td>\n",
       "    </tr>\n",
       "    <tr>\n",
       "      <th>19</th>\n",
       "      <td>20</td>\n",
       "      <td>A-3</td>\n",
       "      <td>A-Class</td>\n",
       "      <td>Okamaitachi</td>\n",
       "      <td>Female</td>\n",
       "      <td>['Expert Swordsman']</td>\n",
       "    </tr>\n",
       "    <tr>\n",
       "      <th>20</th>\n",
       "      <td>21</td>\n",
       "      <td>A-4</td>\n",
       "      <td>A-Class</td>\n",
       "      <td>Bushidrill</td>\n",
       "      <td>Male</td>\n",
       "      <td>['Superhuman Strength', 'Superhuman Speed', 'S...</td>\n",
       "    </tr>\n",
       "  </tbody>\n",
       "</table>\n",
       "</div>"
      ],
      "text/plain": [
       "    Sr. No.  Rank    Class                Name  Gender  \\\n",
       "15       16  S-16  S-Class      Tanktop Master    Male   \n",
       "16       17  S-17  S-Class  Puri-Puri Prisoner    Male   \n",
       "17       18   A-1  A-Class           Amai Mask    Male   \n",
       "18       19   A-2  A-Class               Iaian    Male   \n",
       "19       20   A-3  A-Class         Okamaitachi  Female   \n",
       "20       21   A-4  A-Class          Bushidrill    Male   \n",
       "\n",
       "                                            Abilities  \n",
       "15  ['Superhuman Physical Prowess', 'Expert Marksm...  \n",
       "16  ['Superhuman Physical Prowess', 'Healing Factor']  \n",
       "17  ['Superhuman Physical Prowess', 'Regeneration'...  \n",
       "18  ['Superhuman Speed', 'Superhuman Strength', 'E...  \n",
       "19                               ['Expert Swordsman']  \n",
       "20  ['Superhuman Strength', 'Superhuman Speed', 'S...  "
      ]
     },
     "execution_count": 42,
     "metadata": {},
     "output_type": "execute_result"
    }
   ],
   "source": [
    "heroes[s1 | a].loc[15:20]"
   ]
  },
  {
   "cell_type": "code",
   "execution_count": 43,
   "id": "3a1aee02-407c-413c-9119-e184d2e6b663",
   "metadata": {},
   "outputs": [
    {
     "name": "stdout",
     "output_type": "stream",
     "text": [
      "<class 'pandas.core.frame.DataFrame'>\n",
      "RangeIndex: 138 entries, 0 to 137\n",
      "Data columns (total 6 columns):\n",
      " #   Column     Non-Null Count  Dtype \n",
      "---  ------     --------------  ----- \n",
      " 0   Sr. No.    138 non-null    int64 \n",
      " 1   Rank       138 non-null    object\n",
      " 2   Class      138 non-null    object\n",
      " 3   Name       138 non-null    object\n",
      " 4   Gender     138 non-null    object\n",
      " 5   Abilities  50 non-null     object\n",
      "dtypes: int64(1), object(5)\n",
      "memory usage: 6.6+ KB\n"
     ]
    }
   ],
   "source": [
    "heroes.info()"
   ]
  },
  {
   "cell_type": "code",
   "execution_count": 62,
   "id": "00534f6a-763e-433a-bd50-eee70eea0e57",
   "metadata": {},
   "outputs": [],
   "source": [
    "femaleHeroes = ( (heroes['Gender'] == 'Female') & (heroes['Sr. No.'] < 60) )"
   ]
  },
  {
   "cell_type": "code",
   "execution_count": 63,
   "id": "c3532dff-e83f-404b-95ad-1fcaa6be9bcc",
   "metadata": {},
   "outputs": [
    {
     "data": {
      "text/html": [
       "<div>\n",
       "<style scoped>\n",
       "    .dataframe tbody tr th:only-of-type {\n",
       "        vertical-align: middle;\n",
       "    }\n",
       "\n",
       "    .dataframe tbody tr th {\n",
       "        vertical-align: top;\n",
       "    }\n",
       "\n",
       "    .dataframe thead th {\n",
       "        text-align: right;\n",
       "    }\n",
       "</style>\n",
       "<table border=\"1\" class=\"dataframe\">\n",
       "  <thead>\n",
       "    <tr style=\"text-align: right;\">\n",
       "      <th></th>\n",
       "      <th>Sr. No.</th>\n",
       "      <th>Rank</th>\n",
       "      <th>Class</th>\n",
       "      <th>Name</th>\n",
       "      <th>Gender</th>\n",
       "      <th>Abilities</th>\n",
       "    </tr>\n",
       "  </thead>\n",
       "  <tbody>\n",
       "    <tr>\n",
       "      <th>1</th>\n",
       "      <td>2</td>\n",
       "      <td>S-2</td>\n",
       "      <td>S-Class</td>\n",
       "      <td>Tatsumaki</td>\n",
       "      <td>Female</td>\n",
       "      <td>['Psychokinesis']</td>\n",
       "    </tr>\n",
       "    <tr>\n",
       "      <th>19</th>\n",
       "      <td>20</td>\n",
       "      <td>A-3</td>\n",
       "      <td>A-Class</td>\n",
       "      <td>Okamaitachi</td>\n",
       "      <td>Female</td>\n",
       "      <td>['Expert Swordsman']</td>\n",
       "    </tr>\n",
       "    <tr>\n",
       "      <th>27</th>\n",
       "      <td>28</td>\n",
       "      <td>A-11</td>\n",
       "      <td>A-Class</td>\n",
       "      <td>Twin Tail</td>\n",
       "      <td>Female</td>\n",
       "      <td>['Juggling']</td>\n",
       "    </tr>\n",
       "    <tr>\n",
       "      <th>41</th>\n",
       "      <td>42</td>\n",
       "      <td>A-32</td>\n",
       "      <td>A-Class</td>\n",
       "      <td>Shadow Ring</td>\n",
       "      <td>Female</td>\n",
       "      <td>['Enhanced Speed', 'Enhanced Reflexes']</td>\n",
       "    </tr>\n",
       "    <tr>\n",
       "      <th>49</th>\n",
       "      <td>50</td>\n",
       "      <td>B-1</td>\n",
       "      <td>B-Class</td>\n",
       "      <td>Blizzard of Hell</td>\n",
       "      <td>Female</td>\n",
       "      <td>['Psychokinesis']</td>\n",
       "    </tr>\n",
       "    <tr>\n",
       "      <th>54</th>\n",
       "      <td>55</td>\n",
       "      <td>B-25</td>\n",
       "      <td>B-Class</td>\n",
       "      <td>Pink Hornet</td>\n",
       "      <td>Female</td>\n",
       "      <td>NaN</td>\n",
       "    </tr>\n",
       "  </tbody>\n",
       "</table>\n",
       "</div>"
      ],
      "text/plain": [
       "    Sr. No.  Rank    Class              Name  Gender  \\\n",
       "1         2   S-2  S-Class        Tatsumaki   Female   \n",
       "19       20   A-3  A-Class       Okamaitachi  Female   \n",
       "27       28  A-11  A-Class         Twin Tail  Female   \n",
       "41       42  A-32  A-Class       Shadow Ring  Female   \n",
       "49       50   B-1  B-Class  Blizzard of Hell  Female   \n",
       "54       55  B-25  B-Class       Pink Hornet  Female   \n",
       "\n",
       "                                  Abilities  \n",
       "1                         ['Psychokinesis']  \n",
       "19                     ['Expert Swordsman']  \n",
       "27                             ['Juggling']  \n",
       "41  ['Enhanced Speed', 'Enhanced Reflexes']  \n",
       "49                        ['Psychokinesis']  \n",
       "54                                      NaN  "
      ]
     },
     "execution_count": 63,
     "metadata": {},
     "output_type": "execute_result"
    }
   ],
   "source": [
    "heroes[femaleHeroes]"
   ]
  },
  {
   "cell_type": "code",
   "execution_count": 65,
   "id": "2d76dc8a-0d12-44a7-aac7-b27783342584",
   "metadata": {},
   "outputs": [],
   "source": [
    "villains = pd.read_csv('villains.csv')"
   ]
  },
  {
   "cell_type": "code",
   "execution_count": 66,
   "id": "89d77091-6f00-4f49-a334-ce7a3ee25613",
   "metadata": {},
   "outputs": [
    {
     "data": {
      "text/html": [
       "<div>\n",
       "<style scoped>\n",
       "    .dataframe tbody tr th:only-of-type {\n",
       "        vertical-align: middle;\n",
       "    }\n",
       "\n",
       "    .dataframe tbody tr th {\n",
       "        vertical-align: top;\n",
       "    }\n",
       "\n",
       "    .dataframe thead th {\n",
       "        text-align: right;\n",
       "    }\n",
       "</style>\n",
       "<table border=\"1\" class=\"dataframe\">\n",
       "  <thead>\n",
       "    <tr style=\"text-align: right;\">\n",
       "      <th></th>\n",
       "      <th>Sr. No.</th>\n",
       "      <th>Affiliation</th>\n",
       "      <th>Name</th>\n",
       "      <th>Gender</th>\n",
       "    </tr>\n",
       "  </thead>\n",
       "  <tbody>\n",
       "    <tr>\n",
       "      <th>0</th>\n",
       "      <td>1</td>\n",
       "      <td>Tsukuyomi</td>\n",
       "      <td>Apollo</td>\n",
       "      <td>Male</td>\n",
       "    </tr>\n",
       "    <tr>\n",
       "      <th>1</th>\n",
       "      <td>2</td>\n",
       "      <td>Mediocre Ability Users</td>\n",
       "      <td>Enjoe</td>\n",
       "      <td>Male</td>\n",
       "    </tr>\n",
       "    <tr>\n",
       "      <th>2</th>\n",
       "      <td>3</td>\n",
       "      <td>Mediocre Ability Users</td>\n",
       "      <td>Brut</td>\n",
       "      <td>Male</td>\n",
       "    </tr>\n",
       "    <tr>\n",
       "      <th>3</th>\n",
       "      <td>4</td>\n",
       "      <td>Mediocre Ability Users</td>\n",
       "      <td>Chemonille</td>\n",
       "      <td>Male</td>\n",
       "    </tr>\n",
       "    <tr>\n",
       "      <th>4</th>\n",
       "      <td>5</td>\n",
       "      <td>Cow's Stomach Gang</td>\n",
       "      <td>Bull-Bull</td>\n",
       "      <td>Male</td>\n",
       "    </tr>\n",
       "  </tbody>\n",
       "</table>\n",
       "</div>"
      ],
      "text/plain": [
       "   Sr. No.             Affiliation        Name Gender\n",
       "0        1               Tsukuyomi      Apollo   Male\n",
       "1        2  Mediocre Ability Users       Enjoe   Male\n",
       "2        3  Mediocre Ability Users        Brut   Male\n",
       "3        4  Mediocre Ability Users  Chemonille   Male\n",
       "4        5      Cow's Stomach Gang   Bull-Bull   Male"
      ]
     },
     "execution_count": 66,
     "metadata": {},
     "output_type": "execute_result"
    }
   ],
   "source": [
    "villains.head(5)"
   ]
  },
  {
   "cell_type": "code",
   "execution_count": 73,
   "id": "5fd62fde-4843-427d-9676-d3b262e71030",
   "metadata": {},
   "outputs": [
    {
     "data": {
      "text/plain": [
       "array(['Tsukuyomi', 'Mediocre Ability Users', \"Cow's Stomach Gang\",\n",
       "       'Unaffiliated', 'Paradise Group', 'House of Evolution',\n",
       "       'Dark Matter Thieves', 'The Organization', 'Mother Earth',\n",
       "       'Monster Association'], dtype=object)"
      ]
     },
     "execution_count": 73,
     "metadata": {},
     "output_type": "execute_result"
    }
   ],
   "source": [
    "villains['Affiliation'].unique()\n"
   ]
  },
  {
   "cell_type": "code",
   "execution_count": 72,
   "id": "9421b790-07c2-4fc6-a58f-1bafc81bc111",
   "metadata": {},
   "outputs": [
    {
     "data": {
      "text/plain": [
       "10"
      ]
     },
     "execution_count": 72,
     "metadata": {},
     "output_type": "execute_result"
    }
   ],
   "source": [
    "len(villains['Affiliation'].unique())"
   ]
  },
  {
   "cell_type": "code",
   "execution_count": 74,
   "id": "f8e878af-ea66-49f8-9b0a-154cd13e8c0d",
   "metadata": {},
   "outputs": [],
   "source": [
    "femaleVillains = villains['Gender'] == 'Female'"
   ]
  },
  {
   "cell_type": "code",
   "execution_count": 75,
   "id": "d0c0bc89-d7f1-43f0-9ed1-d460c40961f3",
   "metadata": {},
   "outputs": [
    {
     "data": {
      "text/html": [
       "<div>\n",
       "<style scoped>\n",
       "    .dataframe tbody tr th:only-of-type {\n",
       "        vertical-align: middle;\n",
       "    }\n",
       "\n",
       "    .dataframe tbody tr th {\n",
       "        vertical-align: top;\n",
       "    }\n",
       "\n",
       "    .dataframe thead th {\n",
       "        text-align: right;\n",
       "    }\n",
       "</style>\n",
       "<table border=\"1\" class=\"dataframe\">\n",
       "  <thead>\n",
       "    <tr style=\"text-align: right;\">\n",
       "      <th></th>\n",
       "      <th>Sr. No.</th>\n",
       "      <th>Affiliation</th>\n",
       "      <th>Name</th>\n",
       "      <th>Gender</th>\n",
       "    </tr>\n",
       "  </thead>\n",
       "  <tbody>\n",
       "    <tr>\n",
       "      <th>24</th>\n",
       "      <td>25</td>\n",
       "      <td>House of Evolution</td>\n",
       "      <td>Mosquito Girl</td>\n",
       "      <td>Female</td>\n",
       "    </tr>\n",
       "    <tr>\n",
       "      <th>49</th>\n",
       "      <td>50</td>\n",
       "      <td>Monster Association</td>\n",
       "      <td>Do-S</td>\n",
       "      <td>Female</td>\n",
       "    </tr>\n",
       "    <tr>\n",
       "      <th>54</th>\n",
       "      <td>55</td>\n",
       "      <td>Monster Association</td>\n",
       "      <td>Eyesight</td>\n",
       "      <td>Female</td>\n",
       "    </tr>\n",
       "    <tr>\n",
       "      <th>74</th>\n",
       "      <td>75</td>\n",
       "      <td>Monster Association</td>\n",
       "      <td>Maiko Plasma</td>\n",
       "      <td>Female</td>\n",
       "    </tr>\n",
       "    <tr>\n",
       "      <th>77</th>\n",
       "      <td>78</td>\n",
       "      <td>Monster Association</td>\n",
       "      <td>Nyan</td>\n",
       "      <td>Female</td>\n",
       "    </tr>\n",
       "    <tr>\n",
       "      <th>81</th>\n",
       "      <td>82</td>\n",
       "      <td>Monster Association</td>\n",
       "      <td>Psykos</td>\n",
       "      <td>Female</td>\n",
       "    </tr>\n",
       "    <tr>\n",
       "      <th>84</th>\n",
       "      <td>85</td>\n",
       "      <td>Monster Association</td>\n",
       "      <td>Raptora</td>\n",
       "      <td>Female</td>\n",
       "    </tr>\n",
       "    <tr>\n",
       "      <th>85</th>\n",
       "      <td>86</td>\n",
       "      <td>Monster Association</td>\n",
       "      <td>Reptera</td>\n",
       "      <td>Female</td>\n",
       "    </tr>\n",
       "    <tr>\n",
       "      <th>120</th>\n",
       "      <td>121</td>\n",
       "      <td>Unaffiliated</td>\n",
       "      <td>Grizzly Nyah</td>\n",
       "      <td>Female</td>\n",
       "    </tr>\n",
       "    <tr>\n",
       "      <th>122</th>\n",
       "      <td>123</td>\n",
       "      <td>Unaffiliated</td>\n",
       "      <td>Himawari</td>\n",
       "      <td>Female</td>\n",
       "    </tr>\n",
       "    <tr>\n",
       "      <th>126</th>\n",
       "      <td>127</td>\n",
       "      <td>Unaffiliated</td>\n",
       "      <td>Kite</td>\n",
       "      <td>Female</td>\n",
       "    </tr>\n",
       "  </tbody>\n",
       "</table>\n",
       "</div>"
      ],
      "text/plain": [
       "     Sr. No.          Affiliation           Name  Gender\n",
       "24        25   House of Evolution  Mosquito Girl  Female\n",
       "49        50  Monster Association           Do-S  Female\n",
       "54        55  Monster Association       Eyesight  Female\n",
       "74        75  Monster Association   Maiko Plasma  Female\n",
       "77        78  Monster Association          Nyan   Female\n",
       "81        82  Monster Association         Psykos  Female\n",
       "84        85  Monster Association        Raptora  Female\n",
       "85        86  Monster Association        Reptera  Female\n",
       "120      121         Unaffiliated   Grizzly Nyah  Female\n",
       "122      123         Unaffiliated       Himawari  Female\n",
       "126      127         Unaffiliated           Kite  Female"
      ]
     },
     "execution_count": 75,
     "metadata": {},
     "output_type": "execute_result"
    }
   ],
   "source": [
    "villains[femaleVillains]"
   ]
  },
  {
   "cell_type": "code",
   "execution_count": 84,
   "id": "fd0dd3c3-eb3f-4cac-9e31-4f7f43dc57c0",
   "metadata": {},
   "outputs": [
    {
     "data": {
      "text/html": [
       "<div>\n",
       "<style scoped>\n",
       "    .dataframe tbody tr th:only-of-type {\n",
       "        vertical-align: middle;\n",
       "    }\n",
       "\n",
       "    .dataframe tbody tr th {\n",
       "        vertical-align: top;\n",
       "    }\n",
       "\n",
       "    .dataframe thead th {\n",
       "        text-align: right;\n",
       "    }\n",
       "</style>\n",
       "<table border=\"1\" class=\"dataframe\">\n",
       "  <thead>\n",
       "    <tr style=\"text-align: right;\">\n",
       "      <th></th>\n",
       "      <th>Sr. No.</th>\n",
       "      <th>Affiliation</th>\n",
       "      <th>Name</th>\n",
       "      <th>Gender</th>\n",
       "    </tr>\n",
       "  </thead>\n",
       "  <tbody>\n",
       "    <tr>\n",
       "      <th>24</th>\n",
       "      <td>25</td>\n",
       "      <td>House of Evolution</td>\n",
       "      <td>Mosquito Girl</td>\n",
       "      <td>Female</td>\n",
       "    </tr>\n",
       "    <tr>\n",
       "      <th>49</th>\n",
       "      <td>50</td>\n",
       "      <td>Monster Association</td>\n",
       "      <td>Do-S</td>\n",
       "      <td>Female</td>\n",
       "    </tr>\n",
       "  </tbody>\n",
       "</table>\n",
       "</div>"
      ],
      "text/plain": [
       "    Sr. No.          Affiliation           Name  Gender\n",
       "24       25   House of Evolution  Mosquito Girl  Female\n",
       "49       50  Monster Association           Do-S  Female"
      ]
     },
     "execution_count": 84,
     "metadata": {},
     "output_type": "execute_result"
    }
   ],
   "source": [
    "villains.loc[[24, 49]]"
   ]
  },
  {
   "cell_type": "code",
   "execution_count": 85,
   "id": "d69a895c-76fb-4a62-a468-f86dc7fb840c",
   "metadata": {},
   "outputs": [
    {
     "data": {
      "text/plain": [
       "Sr. No.                1\n",
       "Affiliation    Tsukuyomi\n",
       "Name              Apollo\n",
       "Gender              Male\n",
       "Name: 0, dtype: object"
      ]
     },
     "execution_count": 85,
     "metadata": {},
     "output_type": "execute_result"
    }
   ],
   "source": [
    "villains.iloc[0]"
   ]
  },
  {
   "cell_type": "code",
   "execution_count": 94,
   "id": "f19672c4-3e89-46c1-abf8-01d80bf21923",
   "metadata": {},
   "outputs": [
    {
     "data": {
      "text/html": [
       "<div>\n",
       "<style scoped>\n",
       "    .dataframe tbody tr th:only-of-type {\n",
       "        vertical-align: middle;\n",
       "    }\n",
       "\n",
       "    .dataframe tbody tr th {\n",
       "        vertical-align: top;\n",
       "    }\n",
       "\n",
       "    .dataframe thead th {\n",
       "        text-align: right;\n",
       "    }\n",
       "</style>\n",
       "<table border=\"1\" class=\"dataframe\">\n",
       "  <thead>\n",
       "    <tr style=\"text-align: right;\">\n",
       "      <th></th>\n",
       "      <th>Sr. No.</th>\n",
       "      <th>Affiliation</th>\n",
       "      <th>Name</th>\n",
       "      <th>Gender</th>\n",
       "    </tr>\n",
       "  </thead>\n",
       "  <tbody>\n",
       "    <tr>\n",
       "      <th>150</th>\n",
       "      <td>151</td>\n",
       "      <td>Unaffiliated</td>\n",
       "      <td>Three Eyed Ghost</td>\n",
       "      <td>Unidentified</td>\n",
       "    </tr>\n",
       "    <tr>\n",
       "      <th>151</th>\n",
       "      <td>152</td>\n",
       "      <td>Unaffiliated</td>\n",
       "      <td>The Three Tempest Brothers</td>\n",
       "      <td>Male</td>\n",
       "    </tr>\n",
       "    <tr>\n",
       "      <th>152</th>\n",
       "      <td>153</td>\n",
       "      <td>Unaffiliated</td>\n",
       "      <td>Tongue Stretcher</td>\n",
       "      <td>Male</td>\n",
       "    </tr>\n",
       "    <tr>\n",
       "      <th>153</th>\n",
       "      <td>154</td>\n",
       "      <td>Unaffiliated</td>\n",
       "      <td>Withered Sprout</td>\n",
       "      <td>Male</td>\n",
       "    </tr>\n",
       "    <tr>\n",
       "      <th>154</th>\n",
       "      <td>155</td>\n",
       "      <td>Unaffiliated</td>\n",
       "      <td>Garou</td>\n",
       "      <td>Male</td>\n",
       "    </tr>\n",
       "  </tbody>\n",
       "</table>\n",
       "</div>"
      ],
      "text/plain": [
       "     Sr. No.   Affiliation                        Name        Gender\n",
       "150      151  Unaffiliated            Three Eyed Ghost  Unidentified\n",
       "151      152  Unaffiliated  The Three Tempest Brothers          Male\n",
       "152      153  Unaffiliated            Tongue Stretcher          Male\n",
       "153      154  Unaffiliated             Withered Sprout          Male\n",
       "154      155  Unaffiliated                       Garou          Male"
      ]
     },
     "execution_count": 94,
     "metadata": {},
     "output_type": "execute_result"
    }
   ],
   "source": [
    "villains.iloc[-5:]"
   ]
  },
  {
   "cell_type": "code",
   "execution_count": 95,
   "id": "177cb517-27bd-4fec-b670-9d65670c6ced",
   "metadata": {},
   "outputs": [
    {
     "data": {
      "text/plain": [
       "Index(['Sr. No.', 'Affiliation', 'Name', 'Gender'], dtype='object')"
      ]
     },
     "execution_count": 95,
     "metadata": {},
     "output_type": "execute_result"
    }
   ],
   "source": [
    "villains.columns"
   ]
  },
  {
   "cell_type": "code",
   "execution_count": 97,
   "id": "7bc36517-841b-422c-87f9-8dfec06550a7",
   "metadata": {},
   "outputs": [
    {
     "data": {
      "text/plain": [
       "RangeIndex(start=0, stop=155, step=1)"
      ]
     },
     "execution_count": 97,
     "metadata": {},
     "output_type": "execute_result"
    }
   ],
   "source": [
    "villains.index"
   ]
  },
  {
   "cell_type": "code",
   "execution_count": 116,
   "id": "c33e555d-d58e-4b2c-ae9d-7df1acc8ffb7",
   "metadata": {},
   "outputs": [],
   "source": [
    "villains['Gender'] = villains['Gender'].str.replace(\"Unidentified\", \"Transgender\")"
   ]
  },
  {
   "cell_type": "code",
   "execution_count": 117,
   "id": "9a957f6e-aa6f-42de-9d1b-c4c1e54a2453",
   "metadata": {},
   "outputs": [
    {
     "data": {
      "text/html": [
       "<div>\n",
       "<style scoped>\n",
       "    .dataframe tbody tr th:only-of-type {\n",
       "        vertical-align: middle;\n",
       "    }\n",
       "\n",
       "    .dataframe tbody tr th {\n",
       "        vertical-align: top;\n",
       "    }\n",
       "\n",
       "    .dataframe thead th {\n",
       "        text-align: right;\n",
       "    }\n",
       "</style>\n",
       "<table border=\"1\" class=\"dataframe\">\n",
       "  <thead>\n",
       "    <tr style=\"text-align: right;\">\n",
       "      <th></th>\n",
       "      <th>Sr. No.</th>\n",
       "      <th>Affiliation</th>\n",
       "      <th>Name</th>\n",
       "      <th>Gender</th>\n",
       "    </tr>\n",
       "  </thead>\n",
       "  <tbody>\n",
       "    <tr>\n",
       "      <th>150</th>\n",
       "      <td>151</td>\n",
       "      <td>Unaffiliated</td>\n",
       "      <td>Three Eyed Ghost</td>\n",
       "      <td>Transgender</td>\n",
       "    </tr>\n",
       "    <tr>\n",
       "      <th>151</th>\n",
       "      <td>152</td>\n",
       "      <td>Unaffiliated</td>\n",
       "      <td>The Three Tempest Brothers</td>\n",
       "      <td>Male</td>\n",
       "    </tr>\n",
       "    <tr>\n",
       "      <th>152</th>\n",
       "      <td>153</td>\n",
       "      <td>Unaffiliated</td>\n",
       "      <td>Tongue Stretcher</td>\n",
       "      <td>Male</td>\n",
       "    </tr>\n",
       "    <tr>\n",
       "      <th>153</th>\n",
       "      <td>154</td>\n",
       "      <td>Unaffiliated</td>\n",
       "      <td>Withered Sprout</td>\n",
       "      <td>Male</td>\n",
       "    </tr>\n",
       "    <tr>\n",
       "      <th>154</th>\n",
       "      <td>155</td>\n",
       "      <td>Unaffiliated</td>\n",
       "      <td>Garou</td>\n",
       "      <td>Male</td>\n",
       "    </tr>\n",
       "  </tbody>\n",
       "</table>\n",
       "</div>"
      ],
      "text/plain": [
       "     Sr. No.   Affiliation                        Name       Gender\n",
       "150      151  Unaffiliated            Three Eyed Ghost  Transgender\n",
       "151      152  Unaffiliated  The Three Tempest Brothers         Male\n",
       "152      153  Unaffiliated            Tongue Stretcher         Male\n",
       "153      154  Unaffiliated             Withered Sprout         Male\n",
       "154      155  Unaffiliated                       Garou         Male"
      ]
     },
     "execution_count": 117,
     "metadata": {},
     "output_type": "execute_result"
    }
   ],
   "source": [
    "villains.iloc[-5:]"
   ]
  },
  {
   "cell_type": "code",
   "execution_count": 140,
   "id": "5802cf2e-c64a-47c6-ab03-b212098b7192",
   "metadata": {},
   "outputs": [],
   "source": [
    "heroes = pd.read_csv('heroes.csv')"
   ]
  },
  {
   "cell_type": "code",
   "execution_count": 144,
   "id": "8405de6c-e85d-4f4a-bcb7-c27f6c483a02",
   "metadata": {},
   "outputs": [],
   "source": [
    "def getHero(ability):\n",
    "    character = heroes['Abilities'].str.contains(ability, na=False)\n",
    "    df = heroes[character]\n",
    "    return df"
   ]
  },
  {
   "cell_type": "code",
   "execution_count": 146,
   "id": "11c83dda-1472-4be4-b2b2-5c325a3710fd",
   "metadata": {},
   "outputs": [
    {
     "data": {
      "text/html": [
       "<div>\n",
       "<style scoped>\n",
       "    .dataframe tbody tr th:only-of-type {\n",
       "        vertical-align: middle;\n",
       "    }\n",
       "\n",
       "    .dataframe tbody tr th {\n",
       "        vertical-align: top;\n",
       "    }\n",
       "\n",
       "    .dataframe thead th {\n",
       "        text-align: right;\n",
       "    }\n",
       "</style>\n",
       "<table border=\"1\" class=\"dataframe\">\n",
       "  <thead>\n",
       "    <tr style=\"text-align: right;\">\n",
       "      <th></th>\n",
       "      <th>Sr. No.</th>\n",
       "      <th>Rank</th>\n",
       "      <th>Class</th>\n",
       "      <th>Name</th>\n",
       "      <th>Gender</th>\n",
       "      <th>Abilities</th>\n",
       "    </tr>\n",
       "  </thead>\n",
       "  <tbody>\n",
       "    <tr>\n",
       "      <th>3</th>\n",
       "      <td>4</td>\n",
       "      <td>S-4</td>\n",
       "      <td>S-Class</td>\n",
       "      <td>Atomic Samurai</td>\n",
       "      <td>Male</td>\n",
       "      <td>['Superhuman Physical Prowess', 'Master Swords...</td>\n",
       "    </tr>\n",
       "    <tr>\n",
       "      <th>12</th>\n",
       "      <td>13</td>\n",
       "      <td>S-13</td>\n",
       "      <td>S-Class</td>\n",
       "      <td>Flashy flash</td>\n",
       "      <td>Male</td>\n",
       "      <td>['Superhuman Speed and Agility', 'Master Sword...</td>\n",
       "    </tr>\n",
       "    <tr>\n",
       "      <th>18</th>\n",
       "      <td>19</td>\n",
       "      <td>A-2</td>\n",
       "      <td>A-Class</td>\n",
       "      <td>Iaian</td>\n",
       "      <td>Male</td>\n",
       "      <td>['Superhuman Speed', 'Superhuman Strength', 'E...</td>\n",
       "    </tr>\n",
       "    <tr>\n",
       "      <th>19</th>\n",
       "      <td>20</td>\n",
       "      <td>A-3</td>\n",
       "      <td>A-Class</td>\n",
       "      <td>Okamaitachi</td>\n",
       "      <td>Female</td>\n",
       "      <td>['Expert Swordsman']</td>\n",
       "    </tr>\n",
       "    <tr>\n",
       "      <th>20</th>\n",
       "      <td>21</td>\n",
       "      <td>A-4</td>\n",
       "      <td>A-Class</td>\n",
       "      <td>Bushidrill</td>\n",
       "      <td>Male</td>\n",
       "      <td>['Superhuman Strength', 'Superhuman Speed', 'S...</td>\n",
       "    </tr>\n",
       "    <tr>\n",
       "      <th>37</th>\n",
       "      <td>38</td>\n",
       "      <td>A-28</td>\n",
       "      <td>A-Class</td>\n",
       "      <td>Spring Mustachio</td>\n",
       "      <td>Male</td>\n",
       "      <td>['Superhuman Speed Swordsmanship']</td>\n",
       "    </tr>\n",
       "    <tr>\n",
       "      <th>39</th>\n",
       "      <td>40</td>\n",
       "      <td>A-30</td>\n",
       "      <td>A-Class</td>\n",
       "      <td>Peach Terry</td>\n",
       "      <td>Male</td>\n",
       "      <td>['Skilled Swordsman']</td>\n",
       "    </tr>\n",
       "  </tbody>\n",
       "</table>\n",
       "</div>"
      ],
      "text/plain": [
       "    Sr. No.  Rank    Class              Name  Gender  \\\n",
       "3         4   S-4  S-Class    Atomic Samurai    Male   \n",
       "12       13  S-13  S-Class      Flashy flash    Male   \n",
       "18       19   A-2  A-Class             Iaian    Male   \n",
       "19       20   A-3  A-Class       Okamaitachi  Female   \n",
       "20       21   A-4  A-Class        Bushidrill    Male   \n",
       "37       38  A-28  A-Class  Spring Mustachio    Male   \n",
       "39       40  A-30  A-Class      Peach Terry     Male   \n",
       "\n",
       "                                            Abilities  \n",
       "3   ['Superhuman Physical Prowess', 'Master Swords...  \n",
       "12  ['Superhuman Speed and Agility', 'Master Sword...  \n",
       "18  ['Superhuman Speed', 'Superhuman Strength', 'E...  \n",
       "19                               ['Expert Swordsman']  \n",
       "20  ['Superhuman Strength', 'Superhuman Speed', 'S...  \n",
       "37                 ['Superhuman Speed Swordsmanship']  \n",
       "39                              ['Skilled Swordsman']  "
      ]
     },
     "execution_count": 146,
     "metadata": {},
     "output_type": "execute_result"
    }
   ],
   "source": [
    "getHero(\"Swordsman\")"
   ]
  },
  {
   "cell_type": "code",
   "execution_count": 147,
   "id": "c640b5bf-2cff-4e23-9fdc-be9e4bee7163",
   "metadata": {},
   "outputs": [],
   "source": [
    "record = getHero('Superhuman')"
   ]
  },
  {
   "cell_type": "code",
   "execution_count": 150,
   "id": "0a3e6eb1-f0c7-461b-95e4-433af1270301",
   "metadata": {},
   "outputs": [
    {
     "ename": "ModuleNotFoundError",
     "evalue": "No module named 'openpyxl'",
     "output_type": "error",
     "traceback": [
      "\u001b[31m---------------------------------------------------------------------------\u001b[39m",
      "\u001b[31mModuleNotFoundError\u001b[39m                       Traceback (most recent call last)",
      "\u001b[36mCell\u001b[39m\u001b[36m \u001b[39m\u001b[32mIn[150]\u001b[39m\u001b[32m, line 1\u001b[39m\n\u001b[32m----> \u001b[39m\u001b[32m1\u001b[39m \u001b[43mrecord\u001b[49m\u001b[43m.\u001b[49m\u001b[43mto_excel\u001b[49m\u001b[43m(\u001b[49m\u001b[33;43m'\u001b[39;49m\u001b[33;43msuperhuman.xlsx\u001b[39;49m\u001b[33;43m'\u001b[39;49m\u001b[43m)\u001b[49m\n",
      "\u001b[36mFile \u001b[39m\u001b[32m~/Desktop/jupyter/venv/lib/python3.12/site-packages/pandas/util/_decorators.py:333\u001b[39m, in \u001b[36mdeprecate_nonkeyword_arguments.<locals>.decorate.<locals>.wrapper\u001b[39m\u001b[34m(*args, **kwargs)\u001b[39m\n\u001b[32m    327\u001b[39m \u001b[38;5;28;01mif\u001b[39;00m \u001b[38;5;28mlen\u001b[39m(args) > num_allow_args:\n\u001b[32m    328\u001b[39m     warnings.warn(\n\u001b[32m    329\u001b[39m         msg.format(arguments=_format_argument_list(allow_args)),\n\u001b[32m    330\u001b[39m         \u001b[38;5;167;01mFutureWarning\u001b[39;00m,\n\u001b[32m    331\u001b[39m         stacklevel=find_stack_level(),\n\u001b[32m    332\u001b[39m     )\n\u001b[32m--> \u001b[39m\u001b[32m333\u001b[39m \u001b[38;5;28;01mreturn\u001b[39;00m \u001b[43mfunc\u001b[49m\u001b[43m(\u001b[49m\u001b[43m*\u001b[49m\u001b[43margs\u001b[49m\u001b[43m,\u001b[49m\u001b[43m \u001b[49m\u001b[43m*\u001b[49m\u001b[43m*\u001b[49m\u001b[43mkwargs\u001b[49m\u001b[43m)\u001b[49m\n",
      "\u001b[36mFile \u001b[39m\u001b[32m~/Desktop/jupyter/venv/lib/python3.12/site-packages/pandas/core/generic.py:2439\u001b[39m, in \u001b[36mNDFrame.to_excel\u001b[39m\u001b[34m(self, excel_writer, sheet_name, na_rep, float_format, columns, header, index, index_label, startrow, startcol, engine, merge_cells, inf_rep, freeze_panes, storage_options, engine_kwargs)\u001b[39m\n\u001b[32m   2426\u001b[39m \u001b[38;5;28;01mfrom\u001b[39;00m\u001b[38;5;250m \u001b[39m\u001b[34;01mpandas\u001b[39;00m\u001b[34;01m.\u001b[39;00m\u001b[34;01mio\u001b[39;00m\u001b[34;01m.\u001b[39;00m\u001b[34;01mformats\u001b[39;00m\u001b[34;01m.\u001b[39;00m\u001b[34;01mexcel\u001b[39;00m\u001b[38;5;250m \u001b[39m\u001b[38;5;28;01mimport\u001b[39;00m ExcelFormatter\n\u001b[32m   2428\u001b[39m formatter = ExcelFormatter(\n\u001b[32m   2429\u001b[39m     df,\n\u001b[32m   2430\u001b[39m     na_rep=na_rep,\n\u001b[32m   (...)\u001b[39m\u001b[32m   2437\u001b[39m     inf_rep=inf_rep,\n\u001b[32m   2438\u001b[39m )\n\u001b[32m-> \u001b[39m\u001b[32m2439\u001b[39m \u001b[43mformatter\u001b[49m\u001b[43m.\u001b[49m\u001b[43mwrite\u001b[49m\u001b[43m(\u001b[49m\n\u001b[32m   2440\u001b[39m \u001b[43m    \u001b[49m\u001b[43mexcel_writer\u001b[49m\u001b[43m,\u001b[49m\n\u001b[32m   2441\u001b[39m \u001b[43m    \u001b[49m\u001b[43msheet_name\u001b[49m\u001b[43m=\u001b[49m\u001b[43msheet_name\u001b[49m\u001b[43m,\u001b[49m\n\u001b[32m   2442\u001b[39m \u001b[43m    \u001b[49m\u001b[43mstartrow\u001b[49m\u001b[43m=\u001b[49m\u001b[43mstartrow\u001b[49m\u001b[43m,\u001b[49m\n\u001b[32m   2443\u001b[39m \u001b[43m    \u001b[49m\u001b[43mstartcol\u001b[49m\u001b[43m=\u001b[49m\u001b[43mstartcol\u001b[49m\u001b[43m,\u001b[49m\n\u001b[32m   2444\u001b[39m \u001b[43m    \u001b[49m\u001b[43mfreeze_panes\u001b[49m\u001b[43m=\u001b[49m\u001b[43mfreeze_panes\u001b[49m\u001b[43m,\u001b[49m\n\u001b[32m   2445\u001b[39m \u001b[43m    \u001b[49m\u001b[43mengine\u001b[49m\u001b[43m=\u001b[49m\u001b[43mengine\u001b[49m\u001b[43m,\u001b[49m\n\u001b[32m   2446\u001b[39m \u001b[43m    \u001b[49m\u001b[43mstorage_options\u001b[49m\u001b[43m=\u001b[49m\u001b[43mstorage_options\u001b[49m\u001b[43m,\u001b[49m\n\u001b[32m   2447\u001b[39m \u001b[43m    \u001b[49m\u001b[43mengine_kwargs\u001b[49m\u001b[43m=\u001b[49m\u001b[43mengine_kwargs\u001b[49m\u001b[43m,\u001b[49m\n\u001b[32m   2448\u001b[39m \u001b[43m\u001b[49m\u001b[43m)\u001b[49m\n",
      "\u001b[36mFile \u001b[39m\u001b[32m~/Desktop/jupyter/venv/lib/python3.12/site-packages/pandas/io/formats/excel.py:943\u001b[39m, in \u001b[36mExcelFormatter.write\u001b[39m\u001b[34m(self, writer, sheet_name, startrow, startcol, freeze_panes, engine, storage_options, engine_kwargs)\u001b[39m\n\u001b[32m    941\u001b[39m     need_save = \u001b[38;5;28;01mFalse\u001b[39;00m\n\u001b[32m    942\u001b[39m \u001b[38;5;28;01melse\u001b[39;00m:\n\u001b[32m--> \u001b[39m\u001b[32m943\u001b[39m     writer = \u001b[43mExcelWriter\u001b[49m\u001b[43m(\u001b[49m\n\u001b[32m    944\u001b[39m \u001b[43m        \u001b[49m\u001b[43mwriter\u001b[49m\u001b[43m,\u001b[49m\n\u001b[32m    945\u001b[39m \u001b[43m        \u001b[49m\u001b[43mengine\u001b[49m\u001b[43m=\u001b[49m\u001b[43mengine\u001b[49m\u001b[43m,\u001b[49m\n\u001b[32m    946\u001b[39m \u001b[43m        \u001b[49m\u001b[43mstorage_options\u001b[49m\u001b[43m=\u001b[49m\u001b[43mstorage_options\u001b[49m\u001b[43m,\u001b[49m\n\u001b[32m    947\u001b[39m \u001b[43m        \u001b[49m\u001b[43mengine_kwargs\u001b[49m\u001b[43m=\u001b[49m\u001b[43mengine_kwargs\u001b[49m\u001b[43m,\u001b[49m\n\u001b[32m    948\u001b[39m \u001b[43m    \u001b[49m\u001b[43m)\u001b[49m\n\u001b[32m    949\u001b[39m     need_save = \u001b[38;5;28;01mTrue\u001b[39;00m\n\u001b[32m    951\u001b[39m \u001b[38;5;28;01mtry\u001b[39;00m:\n",
      "\u001b[36mFile \u001b[39m\u001b[32m~/Desktop/jupyter/venv/lib/python3.12/site-packages/pandas/io/excel/_openpyxl.py:57\u001b[39m, in \u001b[36mOpenpyxlWriter.__init__\u001b[39m\u001b[34m(self, path, engine, date_format, datetime_format, mode, storage_options, if_sheet_exists, engine_kwargs, **kwargs)\u001b[39m\n\u001b[32m     44\u001b[39m \u001b[38;5;28;01mdef\u001b[39;00m\u001b[38;5;250m \u001b[39m\u001b[34m__init__\u001b[39m(\n\u001b[32m     45\u001b[39m     \u001b[38;5;28mself\u001b[39m,\n\u001b[32m     46\u001b[39m     path: FilePath | WriteExcelBuffer | ExcelWriter,\n\u001b[32m   (...)\u001b[39m\u001b[32m     55\u001b[39m ) -> \u001b[38;5;28;01mNone\u001b[39;00m:\n\u001b[32m     56\u001b[39m     \u001b[38;5;66;03m# Use the openpyxl module as the Excel writer.\u001b[39;00m\n\u001b[32m---> \u001b[39m\u001b[32m57\u001b[39m     \u001b[38;5;28;01mfrom\u001b[39;00m\u001b[38;5;250m \u001b[39m\u001b[34;01mopenpyxl\u001b[39;00m\u001b[34;01m.\u001b[39;00m\u001b[34;01mworkbook\u001b[39;00m\u001b[38;5;250m \u001b[39m\u001b[38;5;28;01mimport\u001b[39;00m Workbook\n\u001b[32m     59\u001b[39m     engine_kwargs = combine_kwargs(engine_kwargs, kwargs)\n\u001b[32m     61\u001b[39m     \u001b[38;5;28msuper\u001b[39m().\u001b[34m__init__\u001b[39m(\n\u001b[32m     62\u001b[39m         path,\n\u001b[32m     63\u001b[39m         mode=mode,\n\u001b[32m   (...)\u001b[39m\u001b[32m     66\u001b[39m         engine_kwargs=engine_kwargs,\n\u001b[32m     67\u001b[39m     )\n",
      "\u001b[31mModuleNotFoundError\u001b[39m: No module named 'openpyxl'"
     ]
    }
   ],
   "source": [
    "record.to_excel('superhuman.xlsx')"
   ]
  },
  {
   "cell_type": "code",
   "execution_count": null,
   "id": "2f7214e5-ea8f-4cba-9bc5-7f66c2a3757c",
   "metadata": {},
   "outputs": [],
   "source": []
  }
 ],
 "metadata": {
  "kernelspec": {
   "display_name": "Python 3 (ipykernel)",
   "language": "python",
   "name": "python3"
  },
  "language_info": {
   "codemirror_mode": {
    "name": "ipython",
    "version": 3
   },
   "file_extension": ".py",
   "mimetype": "text/x-python",
   "name": "python",
   "nbconvert_exporter": "python",
   "pygments_lexer": "ipython3",
   "version": "3.12.3"
  }
 },
 "nbformat": 4,
 "nbformat_minor": 5
}
