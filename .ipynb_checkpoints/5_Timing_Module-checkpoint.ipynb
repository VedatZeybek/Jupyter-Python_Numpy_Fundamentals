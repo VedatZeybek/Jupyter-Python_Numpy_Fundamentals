{
 "cells": [
  {
   "cell_type": "code",
   "execution_count": 7,
   "metadata": {},
   "outputs": [],
   "source": [
    "import time \n",
    "# time module gives access to the current time, with precision that varies per platform\n",
    "def timer(func, *args):\n",
    "    start = time.time()\n",
    "    for i in range(1000): # running 1,000 calls to the passed-in function\n",
    "        func(*args)\n",
    "    return time.time() - start"
   ]
  },
  {
   "cell_type": "code",
   "execution_count": 8,
   "metadata": {},
   "outputs": [
    {
     "data": {
      "text/plain": [
       "0.0005099773406982422"
      ]
     },
     "execution_count": 8,
     "metadata": {},
     "output_type": "execute_result"
    }
   ],
   "source": [
    "timer(pow, 2, 1000)"
   ]
  },
  {
   "cell_type": "code",
   "execution_count": 9,
   "metadata": {},
   "outputs": [],
   "source": [
    "\"Test the relative speed of iteration tool alternatives.\"\n",
    "import time\n",
    "reps = 100000\n",
    "repslist = list(range(reps))                   \n",
    "\n",
    "def forLoop(*args):\n",
    "    res = []\n",
    "    for x in repslist:\n",
    "        res.append(abs(x))\n",
    "    return res\n",
    "\n",
    "def listComp(*args):\n",
    "    return [abs(x) for x in repslist]\n",
    "\n",
    "def mapCall(*args):\n",
    "    return list(map(abs, repslist))            \n",
    "  # return map(abs, repslist)\n",
    "\n",
    "def genExpr(*args):\n",
    "    return list(abs(x) for x in repslist)        # list() required to force results\n",
    "\n",
    "def genFunc(*args):\n",
    "    def gen():\n",
    "        for x in repslist:\n",
    "            yield abs(x)\n",
    "    return list(gen())                           # list() required to force results\n"
   ]
  },
  {
   "cell_type": "code",
   "execution_count": 10,
   "metadata": {},
   "outputs": [
    {
     "name": "stdout",
     "output_type": "stream",
     "text": [
      "forLoop   => [1.395735740661621]\n",
      "listComp  => [1.235504150390625]\n",
      "mapCall   => [0.9267375469207764]\n",
      "genExpr   => [2.134561538696289]\n",
      "genFunc   => [2.1587555408477783]\n"
     ]
    }
   ],
   "source": [
    "for test in (forLoop, listComp, mapCall, genExpr, genFunc):\n",
    "    time_took= timer(test, 50, 1000)\n",
    "    print ('%-9s => [%s]' % (test.__name__, time_took))"
   ]
  },
  {
   "cell_type": "markdown",
   "metadata": {},
   "source": [
    "### the first thing you should do to optimize Python code is to not optimize Python code! \n",
    "### Write for readability and simplicity first, then optimize  later, if and only if needed."
   ]
  },
  {
   "cell_type": "code",
   "execution_count": 11,
   "metadata": {},
   "outputs": [
    {
     "data": {
      "text/plain": [
       "0.02540262000002258"
      ]
     },
     "execution_count": 11,
     "metadata": {},
     "output_type": "execute_result"
    }
   ],
   "source": [
    "# using timeit module:\n",
    "import timeit\n",
    "min(timeit.repeat(stmt=\"[x ** 2 for x in range(1000)]\", number=1000, repeat=5))"
   ]
  },
  {
   "cell_type": "code",
   "execution_count": 12,
   "metadata": {},
   "outputs": [
    {
     "data": {
      "text/plain": [
       "0.025369908999891777"
      ]
     },
     "execution_count": 12,
     "metadata": {},
     "output_type": "execute_result"
    }
   ],
   "source": [
    "min(timeit.repeat(stmt=\"[x ** 2 for x in range(1000)]\", number=1000, repeat=5))"
   ]
  },
  {
   "cell_type": "markdown",
   "metadata": {},
   "source": [
    "others:\n",
    "* pystone module\n",
    "* http://speed.python.org"
   ]
  },
  {
   "cell_type": "code",
   "execution_count": 13,
   "metadata": {},
   "outputs": [],
   "source": [
    "import numpy as np\n",
    "\n",
    "n_x= 5000\n",
    "\n",
    "weights= np.random.rand(n_x) #  random samples from a uniform distribution over [0, 1)\n",
    "inputs= np.random.rand(n_x) #  random samples from a uniform distribution over [0, 1)"
   ]
  },
  {
   "cell_type": "code",
   "execution_count": 14,
   "metadata": {},
   "outputs": [
    {
     "data": {
      "text/plain": [
       "(5000,)"
      ]
     },
     "execution_count": 14,
     "metadata": {},
     "output_type": "execute_result"
    }
   ],
   "source": [
    "weights.shape"
   ]
  },
  {
   "cell_type": "code",
   "execution_count": 16,
   "metadata": {},
   "outputs": [],
   "source": [
    "def forLoop(*args):\n",
    "    total= 0\n",
    "    for i in range(len(args[0])):\n",
    "        total += args[0][i] * args[1][i]\n",
    "    return total\n",
    "\n",
    "def forLoopWithZip(*args):\n",
    "    total= 0\n",
    "    for i,j in zip(args[0],args[1]):\n",
    "        total += i * j\n",
    "    return total\n",
    "\n",
    "def mapCall(*args):\n",
    "    return sum(list(map(lambda x,y: x+y, args[0],args[1])))     "
   ]
  },
  {
   "cell_type": "code",
   "execution_count": 17,
   "metadata": {},
   "outputs": [],
   "source": [
    "import time \n",
    "\n",
    "def timer(repeats, func, *args):\n",
    "    start = time.process_time()\n",
    "    for i in range(repeats): # running 1,000 calls to the passed-in function\n",
    "        func(*args)\n",
    "    return time.process_time() - start"
   ]
  },
  {
   "cell_type": "code",
   "execution_count": 18,
   "metadata": {},
   "outputs": [
    {
     "name": "stdout",
     "output_type": "stream",
     "text": [
      "forLoop   => [0.1037273049999996]\n",
      "forLoopWithZip => [0.05997404799999906]\n",
      "mapCall   => [0.06266825099999984]\n"
     ]
    }
   ],
   "source": [
    "for test in (forLoop, forLoopWithZip, mapCall):\n",
    "    time_took= timer(100, test, weights, inputs)\n",
    "    print ('%-9s => [%s]' % (test.__name__, time_took))"
   ]
  },
  {
   "cell_type": "code",
   "execution_count": null,
   "metadata": {},
   "outputs": [],
   "source": []
  },
  {
   "cell_type": "code",
   "execution_count": 19,
   "metadata": {},
   "outputs": [],
   "source": [
    "# importing functools for reduce()\n",
    "import functools\n",
    "\n",
    "def reduceCall(*args):\n",
    "    functools.reduce(lambda a, b: a+b, args[0],args[1])"
   ]
  },
  {
   "cell_type": "code",
   "execution_count": 20,
   "metadata": {},
   "outputs": [
    {
     "name": "stdout",
     "output_type": "stream",
     "text": [
      "forLoop   => [0.12264358000000009]\n",
      "forLoopWithZip => [0.05747879599999983]\n",
      "mapCall   => [0.0624062710000004]\n",
      "reduceCall => [0.6738756749999997]\n"
     ]
    }
   ],
   "source": [
    "for test in (forLoop, forLoopWithZip, mapCall, reduceCall):\n",
    "    time_took= timer(100, test, weights, inputs)\n",
    "    print ('%-9s => [%s]' % (test.__name__, time_took))"
   ]
  },
  {
   "cell_type": "code",
   "execution_count": 21,
   "metadata": {},
   "outputs": [],
   "source": [
    "def sum_with_Numpy(*args):\n",
    "    return np.dot(args[0],args[1])"
   ]
  },
  {
   "cell_type": "code",
   "execution_count": 22,
   "metadata": {},
   "outputs": [
    {
     "name": "stdout",
     "output_type": "stream",
     "text": [
      "forLoop   => [0.11629061600000057]\n",
      "forLoopWithZip => [0.056221145000000305]\n",
      "mapCall   => [0.0611828999999986]\n",
      "reduceCall => [0.6637187669999989]\n",
      "sum_with_Numpy => [0.005539083000000389]\n"
     ]
    }
   ],
   "source": [
    "for test in (forLoop, forLoopWithZip, mapCall, reduceCall, sum_with_Numpy):\n",
    "    time_took= timer(100, test, weights, inputs)\n",
    "    print ('%-9s => [%s]' % (test.__name__, time_took))"
   ]
  },
  {
   "cell_type": "code",
   "execution_count": null,
   "metadata": {},
   "outputs": [],
   "source": []
  }
 ],
 "metadata": {
  "kernelspec": {
   "display_name": "Python 3 (ipykernel)",
   "language": "python",
   "name": "python3"
  },
  "language_info": {
   "codemirror_mode": {
    "name": "ipython",
    "version": 3
   },
   "file_extension": ".py",
   "mimetype": "text/x-python",
   "name": "python",
   "nbconvert_exporter": "python",
   "pygments_lexer": "ipython3",
   "version": "3.11.5"
  }
 },
 "nbformat": 4,
 "nbformat_minor": 4
}
